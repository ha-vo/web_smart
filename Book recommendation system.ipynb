{
 "cells": [
  {
   "cell_type": "code",
   "execution_count": 1,
   "id": "16346937",
   "metadata": {},
   "outputs": [],
   "source": [
    "import pandas as pd"
   ]
  },
  {
   "cell_type": "code",
   "execution_count": 2,
   "id": "9e1a1fe7",
   "metadata": {},
   "outputs": [
    {
     "name": "stderr",
     "output_type": "stream",
     "text": [
      "c:\\users\\administrator\\appdata\\local\\programs\\python\\python37\\lib\\site-packages\\IPython\\core\\interactiveshell.py:3258: DtypeWarning: Columns (3) have mixed types.Specify dtype option on import or set low_memory=False.\n",
      "  interactivity=interactivity, compiler=compiler, result=result)\n"
     ]
    }
   ],
   "source": [
    "books = pd.read_csv(\"dataset/Books.csv\")"
   ]
  },
  {
   "cell_type": "code",
   "execution_count": 3,
   "id": "f04e6576",
   "metadata": {},
   "outputs": [
    {
     "data": {
      "text/html": [
       "<div>\n",
       "<style scoped>\n",
       "    .dataframe tbody tr th:only-of-type {\n",
       "        vertical-align: middle;\n",
       "    }\n",
       "\n",
       "    .dataframe tbody tr th {\n",
       "        vertical-align: top;\n",
       "    }\n",
       "\n",
       "    .dataframe thead th {\n",
       "        text-align: right;\n",
       "    }\n",
       "</style>\n",
       "<table border=\"1\" class=\"dataframe\">\n",
       "  <thead>\n",
       "    <tr style=\"text-align: right;\">\n",
       "      <th></th>\n",
       "      <th>ISBN</th>\n",
       "      <th>Book-Title</th>\n",
       "      <th>Book-Author</th>\n",
       "      <th>Year-Of-Publication</th>\n",
       "      <th>Publisher</th>\n",
       "      <th>Image-URL-S</th>\n",
       "      <th>Image-URL-M</th>\n",
       "      <th>Image-URL-L</th>\n",
       "    </tr>\n",
       "  </thead>\n",
       "  <tbody>\n",
       "    <tr>\n",
       "      <th>0</th>\n",
       "      <td>0195153448</td>\n",
       "      <td>Classical Mythology</td>\n",
       "      <td>Mark P. O. Morford</td>\n",
       "      <td>2002</td>\n",
       "      <td>Oxford University Press</td>\n",
       "      <td>http://images.amazon.com/images/P/0195153448.0...</td>\n",
       "      <td>http://images.amazon.com/images/P/0195153448.0...</td>\n",
       "      <td>http://images.amazon.com/images/P/0195153448.0...</td>\n",
       "    </tr>\n",
       "    <tr>\n",
       "      <th>1</th>\n",
       "      <td>0002005018</td>\n",
       "      <td>Clara Callan</td>\n",
       "      <td>Richard Bruce Wright</td>\n",
       "      <td>2001</td>\n",
       "      <td>HarperFlamingo Canada</td>\n",
       "      <td>http://images.amazon.com/images/P/0002005018.0...</td>\n",
       "      <td>http://images.amazon.com/images/P/0002005018.0...</td>\n",
       "      <td>http://images.amazon.com/images/P/0002005018.0...</td>\n",
       "    </tr>\n",
       "    <tr>\n",
       "      <th>2</th>\n",
       "      <td>0060973129</td>\n",
       "      <td>Decision in Normandy</td>\n",
       "      <td>Carlo D'Este</td>\n",
       "      <td>1991</td>\n",
       "      <td>HarperPerennial</td>\n",
       "      <td>http://images.amazon.com/images/P/0060973129.0...</td>\n",
       "      <td>http://images.amazon.com/images/P/0060973129.0...</td>\n",
       "      <td>http://images.amazon.com/images/P/0060973129.0...</td>\n",
       "    </tr>\n",
       "    <tr>\n",
       "      <th>3</th>\n",
       "      <td>0374157065</td>\n",
       "      <td>Flu: The Story of the Great Influenza Pandemic...</td>\n",
       "      <td>Gina Bari Kolata</td>\n",
       "      <td>1999</td>\n",
       "      <td>Farrar Straus Giroux</td>\n",
       "      <td>http://images.amazon.com/images/P/0374157065.0...</td>\n",
       "      <td>http://images.amazon.com/images/P/0374157065.0...</td>\n",
       "      <td>http://images.amazon.com/images/P/0374157065.0...</td>\n",
       "    </tr>\n",
       "    <tr>\n",
       "      <th>4</th>\n",
       "      <td>0393045218</td>\n",
       "      <td>The Mummies of Urumchi</td>\n",
       "      <td>E. J. W. Barber</td>\n",
       "      <td>1999</td>\n",
       "      <td>W. W. Norton &amp;amp; Company</td>\n",
       "      <td>http://images.amazon.com/images/P/0393045218.0...</td>\n",
       "      <td>http://images.amazon.com/images/P/0393045218.0...</td>\n",
       "      <td>http://images.amazon.com/images/P/0393045218.0...</td>\n",
       "    </tr>\n",
       "  </tbody>\n",
       "</table>\n",
       "</div>"
      ],
      "text/plain": [
       "         ISBN                                         Book-Title  \\\n",
       "0  0195153448                                Classical Mythology   \n",
       "1  0002005018                                       Clara Callan   \n",
       "2  0060973129                               Decision in Normandy   \n",
       "3  0374157065  Flu: The Story of the Great Influenza Pandemic...   \n",
       "4  0393045218                             The Mummies of Urumchi   \n",
       "\n",
       "            Book-Author Year-Of-Publication                   Publisher  \\\n",
       "0    Mark P. O. Morford                2002     Oxford University Press   \n",
       "1  Richard Bruce Wright                2001       HarperFlamingo Canada   \n",
       "2          Carlo D'Este                1991             HarperPerennial   \n",
       "3      Gina Bari Kolata                1999        Farrar Straus Giroux   \n",
       "4       E. J. W. Barber                1999  W. W. Norton &amp; Company   \n",
       "\n",
       "                                         Image-URL-S  \\\n",
       "0  http://images.amazon.com/images/P/0195153448.0...   \n",
       "1  http://images.amazon.com/images/P/0002005018.0...   \n",
       "2  http://images.amazon.com/images/P/0060973129.0...   \n",
       "3  http://images.amazon.com/images/P/0374157065.0...   \n",
       "4  http://images.amazon.com/images/P/0393045218.0...   \n",
       "\n",
       "                                         Image-URL-M  \\\n",
       "0  http://images.amazon.com/images/P/0195153448.0...   \n",
       "1  http://images.amazon.com/images/P/0002005018.0...   \n",
       "2  http://images.amazon.com/images/P/0060973129.0...   \n",
       "3  http://images.amazon.com/images/P/0374157065.0...   \n",
       "4  http://images.amazon.com/images/P/0393045218.0...   \n",
       "\n",
       "                                         Image-URL-L  \n",
       "0  http://images.amazon.com/images/P/0195153448.0...  \n",
       "1  http://images.amazon.com/images/P/0002005018.0...  \n",
       "2  http://images.amazon.com/images/P/0060973129.0...  \n",
       "3  http://images.amazon.com/images/P/0374157065.0...  \n",
       "4  http://images.amazon.com/images/P/0393045218.0...  "
      ]
     },
     "execution_count": 3,
     "metadata": {},
     "output_type": "execute_result"
    }
   ],
   "source": [
    "books.head()"
   ]
  },
  {
   "cell_type": "code",
   "execution_count": 4,
   "id": "0a7aed01",
   "metadata": {},
   "outputs": [],
   "source": [
    "ratings = pd.read_csv(\"dataset/Ratings.csv\")"
   ]
  },
  {
   "cell_type": "code",
   "execution_count": 5,
   "id": "bc5be162",
   "metadata": {},
   "outputs": [
    {
     "data": {
      "text/html": [
       "<div>\n",
       "<style scoped>\n",
       "    .dataframe tbody tr th:only-of-type {\n",
       "        vertical-align: middle;\n",
       "    }\n",
       "\n",
       "    .dataframe tbody tr th {\n",
       "        vertical-align: top;\n",
       "    }\n",
       "\n",
       "    .dataframe thead th {\n",
       "        text-align: right;\n",
       "    }\n",
       "</style>\n",
       "<table border=\"1\" class=\"dataframe\">\n",
       "  <thead>\n",
       "    <tr style=\"text-align: right;\">\n",
       "      <th></th>\n",
       "      <th>User-ID</th>\n",
       "      <th>ISBN</th>\n",
       "      <th>Book-Rating</th>\n",
       "    </tr>\n",
       "  </thead>\n",
       "  <tbody>\n",
       "    <tr>\n",
       "      <th>0</th>\n",
       "      <td>276725</td>\n",
       "      <td>034545104X</td>\n",
       "      <td>0</td>\n",
       "    </tr>\n",
       "    <tr>\n",
       "      <th>1</th>\n",
       "      <td>276726</td>\n",
       "      <td>0155061224</td>\n",
       "      <td>5</td>\n",
       "    </tr>\n",
       "    <tr>\n",
       "      <th>2</th>\n",
       "      <td>276727</td>\n",
       "      <td>0446520802</td>\n",
       "      <td>0</td>\n",
       "    </tr>\n",
       "    <tr>\n",
       "      <th>3</th>\n",
       "      <td>276729</td>\n",
       "      <td>052165615X</td>\n",
       "      <td>3</td>\n",
       "    </tr>\n",
       "    <tr>\n",
       "      <th>4</th>\n",
       "      <td>276729</td>\n",
       "      <td>0521795028</td>\n",
       "      <td>6</td>\n",
       "    </tr>\n",
       "  </tbody>\n",
       "</table>\n",
       "</div>"
      ],
      "text/plain": [
       "   User-ID        ISBN  Book-Rating\n",
       "0   276725  034545104X            0\n",
       "1   276726  0155061224            5\n",
       "2   276727  0446520802            0\n",
       "3   276729  052165615X            3\n",
       "4   276729  0521795028            6"
      ]
     },
     "execution_count": 5,
     "metadata": {},
     "output_type": "execute_result"
    }
   ],
   "source": [
    "ratings.head()"
   ]
  },
  {
   "cell_type": "code",
   "execution_count": 6,
   "id": "6f361702",
   "metadata": {},
   "outputs": [
    {
     "name": "stdout",
     "output_type": "stream",
     "text": [
      "271360 1149780\n"
     ]
    }
   ],
   "source": [
    "print(len(books[\"ISBN\"].unique()), len(ratings))"
   ]
  },
  {
   "cell_type": "code",
   "execution_count": 7,
   "id": "0ca84f44",
   "metadata": {},
   "outputs": [],
   "source": [
    "books = books[[\"ISBN\",\"Book-Title\",\"Book-Author\",\"Publisher\",\"Image-URL-L\"]]"
   ]
  },
  {
   "cell_type": "code",
   "execution_count": 8,
   "id": "3cc0525c",
   "metadata": {},
   "outputs": [],
   "source": [
    "books = books.rename(columns={\n",
    "    \"Book-Title\": \"title\",\n",
    "    \"Book-Author\": \"author\",\n",
    "    \"Publisher\":\"publisher\",\n",
    "    \"Image-URL-L\":\"img_url\"\n",
    "})"
   ]
  },
  {
   "cell_type": "code",
   "execution_count": 9,
   "id": "6b8e1464",
   "metadata": {},
   "outputs": [
    {
     "name": "stdout",
     "output_type": "stream",
     "text": [
      "the number null of numNullISBN column is: 0\n",
      "the number null of numNullTitle column is: 0\n",
      "the number null of numNullAuthor column is: 1\n",
      "the number null of numNullPublisher column is: 2\n",
      "the number null of numNullimg column is: 3\n"
     ]
    }
   ],
   "source": [
    "numNullISBN = books['ISBN'].isnull().sum()\n",
    "numNullTitle = books['title'].isnull().sum()\n",
    "numNullAuthor = books['author'].isnull().sum()\n",
    "numNullPublisher = books['publisher'].isnull().sum()\n",
    "numNullimg = books['img_url'].isnull().sum()\n",
    "\n",
    "print(\"the number null of numNullISBN column is:\",numNullISBN)\n",
    "print(\"the number null of numNullTitle column is:\",numNullTitle)\n",
    "print(\"the number null of numNullAuthor column is:\",numNullAuthor)\n",
    "print(\"the number null of numNullPublisher column is:\",numNullPublisher)\n",
    "print(\"the number null of numNullimg column is:\",numNullimg)\n"
   ]
  },
  {
   "cell_type": "code",
   "execution_count": 10,
   "id": "15bd100b",
   "metadata": {},
   "outputs": [],
   "source": [
    "books['author'] = books['author'].fillna(\"unknow\")\n",
    "books['publisher'] = books['publisher'].fillna(\"unknow\")\n",
    "books['img_url'] = books['img_url'].fillna(\"unknow\")"
   ]
  },
  {
   "cell_type": "code",
   "execution_count": 11,
   "id": "f05cb795",
   "metadata": {},
   "outputs": [
    {
     "name": "stdout",
     "output_type": "stream",
     "text": [
      "the number null of numNullISBN column is: 0\n",
      "the number null of numNullTitle column is: 0\n",
      "the number null of numNullAuthor column is: 0\n",
      "the number null of numNullYear column is: 0\n",
      "the number null of numNullimg column is: 0\n"
     ]
    }
   ],
   "source": [
    "numNullISBN = books['ISBN'].isnull().sum()\n",
    "numNullTitle = books['title'].isnull().sum()\n",
    "numNullAuthor = books['author'].isnull().sum()\n",
    "numNullPublisher = books['publisher'].isnull().sum()\n",
    "numNullimg = books['img_url'].isnull().sum()\n",
    "\n",
    "print(\"the number null of numNullISBN column is:\",numNullISBN)\n",
    "print(\"the number null of numNullTitle column is:\",numNullTitle)\n",
    "print(\"the number null of numNullAuthor column is:\",numNullAuthor)\n",
    "print(\"the number null of numNullYear column is:\",numNullPublisher)\n",
    "print(\"the number null of numNullimg column is:\",numNullimg)"
   ]
  },
  {
   "cell_type": "code",
   "execution_count": 12,
   "id": "343130a1",
   "metadata": {},
   "outputs": [],
   "source": [
    "ratings = ratings.rename(columns = {\n",
    "    \"User-ID\":\"user_id\",\n",
    "    \"Book-Rating\": \"rating\"\n",
    "})"
   ]
  },
  {
   "cell_type": "code",
   "execution_count": 13,
   "id": "2d586b19",
   "metadata": {},
   "outputs": [
    {
     "name": "stdout",
     "output_type": "stream",
     "text": [
      "the number null of numNullISBN column is: 0\n",
      "the number null of numNullUser_id column is: 0\n",
      "the number null of numNullRating column is: 0\n"
     ]
    }
   ],
   "source": [
    "numNullISBN = ratings['ISBN'].isnull().sum()\n",
    "numNullUser_id = ratings['user_id'].isnull().sum()\n",
    "numNullRating = ratings['rating'].isnull().sum()\n",
    "\n",
    "print(\"the number null of numNullISBN column is:\",numNullISBN)\n",
    "print(\"the number null of numNullUser_id column is:\",numNullUser_id)\n",
    "print(\"the number null of numNullRating column is:\",numNullRating)"
   ]
  },
  {
   "cell_type": "code",
   "execution_count": 14,
   "id": "849244b9",
   "metadata": {},
   "outputs": [
    {
     "data": {
      "text/plain": [
       "0971880107    2502\n",
       "0316666343    1295\n",
       "0385504209     883\n",
       "0060928336     732\n",
       "0312195516     723\n",
       "              ... \n",
       "0307602923       1\n",
       "1879373254       1\n",
       "0130122157       1\n",
       "3442164397       1\n",
       "079382379X       1\n",
       "Name: ISBN, Length: 340556, dtype: int64"
      ]
     },
     "execution_count": 14,
     "metadata": {},
     "output_type": "execute_result"
    }
   ],
   "source": [
    "ratings[\"ISBN\"].value_counts()"
   ]
  },
  {
   "cell_type": "code",
   "execution_count": 15,
   "id": "4d94ec46",
   "metadata": {},
   "outputs": [
    {
     "data": {
      "text/html": [
       "<div>\n",
       "<style scoped>\n",
       "    .dataframe tbody tr th:only-of-type {\n",
       "        vertical-align: middle;\n",
       "    }\n",
       "\n",
       "    .dataframe tbody tr th {\n",
       "        vertical-align: top;\n",
       "    }\n",
       "\n",
       "    .dataframe thead th {\n",
       "        text-align: right;\n",
       "    }\n",
       "</style>\n",
       "<table border=\"1\" class=\"dataframe\">\n",
       "  <thead>\n",
       "    <tr style=\"text-align: right;\">\n",
       "      <th></th>\n",
       "      <th>user_id</th>\n",
       "      <th>ISBN</th>\n",
       "      <th>rating</th>\n",
       "    </tr>\n",
       "  </thead>\n",
       "  <tbody>\n",
       "    <tr>\n",
       "      <th>457</th>\n",
       "      <td>276925</td>\n",
       "      <td>0971880107</td>\n",
       "      <td>0</td>\n",
       "    </tr>\n",
       "    <tr>\n",
       "      <th>625</th>\n",
       "      <td>276939</td>\n",
       "      <td>0971880107</td>\n",
       "      <td>0</td>\n",
       "    </tr>\n",
       "    <tr>\n",
       "      <th>650</th>\n",
       "      <td>276954</td>\n",
       "      <td>0971880107</td>\n",
       "      <td>0</td>\n",
       "    </tr>\n",
       "    <tr>\n",
       "      <th>812</th>\n",
       "      <td>277042</td>\n",
       "      <td>0971880107</td>\n",
       "      <td>2</td>\n",
       "    </tr>\n",
       "    <tr>\n",
       "      <th>965</th>\n",
       "      <td>277157</td>\n",
       "      <td>0971880107</td>\n",
       "      <td>0</td>\n",
       "    </tr>\n",
       "    <tr>\n",
       "      <th>...</th>\n",
       "      <td>...</td>\n",
       "      <td>...</td>\n",
       "      <td>...</td>\n",
       "    </tr>\n",
       "    <tr>\n",
       "      <th>1145922</th>\n",
       "      <td>275793</td>\n",
       "      <td>0971880107</td>\n",
       "      <td>0</td>\n",
       "    </tr>\n",
       "    <tr>\n",
       "      <th>1148069</th>\n",
       "      <td>276113</td>\n",
       "      <td>0971880107</td>\n",
       "      <td>7</td>\n",
       "    </tr>\n",
       "    <tr>\n",
       "      <th>1148097</th>\n",
       "      <td>276147</td>\n",
       "      <td>0971880107</td>\n",
       "      <td>0</td>\n",
       "    </tr>\n",
       "    <tr>\n",
       "      <th>1148806</th>\n",
       "      <td>276487</td>\n",
       "      <td>0971880107</td>\n",
       "      <td>0</td>\n",
       "    </tr>\n",
       "    <tr>\n",
       "      <th>1149298</th>\n",
       "      <td>276641</td>\n",
       "      <td>0971880107</td>\n",
       "      <td>0</td>\n",
       "    </tr>\n",
       "  </tbody>\n",
       "</table>\n",
       "<p>2502 rows × 3 columns</p>\n",
       "</div>"
      ],
      "text/plain": [
       "         user_id        ISBN  rating\n",
       "457       276925  0971880107       0\n",
       "625       276939  0971880107       0\n",
       "650       276954  0971880107       0\n",
       "812       277042  0971880107       2\n",
       "965       277157  0971880107       0\n",
       "...          ...         ...     ...\n",
       "1145922   275793  0971880107       0\n",
       "1148069   276113  0971880107       7\n",
       "1148097   276147  0971880107       0\n",
       "1148806   276487  0971880107       0\n",
       "1149298   276641  0971880107       0\n",
       "\n",
       "[2502 rows x 3 columns]"
      ]
     },
     "execution_count": 15,
     "metadata": {},
     "output_type": "execute_result"
    }
   ],
   "source": [
    "ratings.loc[ratings[\"ISBN\"] == \"0971880107\"]"
   ]
  },
  {
   "cell_type": "code",
   "execution_count": 16,
   "id": "7c05c95f",
   "metadata": {},
   "outputs": [
    {
     "data": {
      "text/plain": [
       "(1149780,)"
      ]
     },
     "execution_count": 16,
     "metadata": {},
     "output_type": "execute_result"
    }
   ],
   "source": [
    "ratings[\"ISBN\"].shape"
   ]
  },
  {
   "cell_type": "code",
   "execution_count": 17,
   "id": "85106589",
   "metadata": {},
   "outputs": [],
   "source": [
    "ratings = ratings.groupby(\"ISBN\")[\"rating\"].mean().reset_index()\n"
   ]
  },
  {
   "cell_type": "code",
   "execution_count": 36,
   "id": "6d84a831",
   "metadata": {},
   "outputs": [],
   "source": [
    "ratings = ratings[ratings['rating'] > 9]"
   ]
  },
  {
   "cell_type": "code",
   "execution_count": 37,
   "id": "ed391dde",
   "metadata": {},
   "outputs": [],
   "source": [
    "ratings = ratings.drop_duplicates(subset=[\"ISBN\"], keep=False)"
   ]
  },
  {
   "cell_type": "code",
   "execution_count": 38,
   "id": "6f976115",
   "metadata": {},
   "outputs": [
    {
     "data": {
      "text/plain": [
       "17543"
      ]
     },
     "execution_count": 38,
     "metadata": {},
     "output_type": "execute_result"
    }
   ],
   "source": [
    "len(ratings)"
   ]
  },
  {
   "cell_type": "code",
   "execution_count": 39,
   "id": "455c3edf",
   "metadata": {},
   "outputs": [],
   "source": [
    "rating_with_book = ratings.merge(books, on=\"ISBN\")"
   ]
  },
  {
   "cell_type": "code",
   "execution_count": 40,
   "id": "91bbdf58",
   "metadata": {},
   "outputs": [
    {
     "data": {
      "text/plain": [
       "(13771, 6)"
      ]
     },
     "execution_count": 40,
     "metadata": {},
     "output_type": "execute_result"
    }
   ],
   "source": [
    "rating_with_book.shape"
   ]
  },
  {
   "cell_type": "code",
   "execution_count": 54,
   "id": "e060f841",
   "metadata": {},
   "outputs": [],
   "source": [
    "rating_with_book['id'] = rating_with_book.reset_index().index"
   ]
  },
  {
   "cell_type": "code",
   "execution_count": 55,
   "id": "eb5fc82d",
   "metadata": {},
   "outputs": [
    {
     "data": {
      "text/html": [
       "<div>\n",
       "<style scoped>\n",
       "    .dataframe tbody tr th:only-of-type {\n",
       "        vertical-align: middle;\n",
       "    }\n",
       "\n",
       "    .dataframe tbody tr th {\n",
       "        vertical-align: top;\n",
       "    }\n",
       "\n",
       "    .dataframe thead th {\n",
       "        text-align: right;\n",
       "    }\n",
       "</style>\n",
       "<table border=\"1\" class=\"dataframe\">\n",
       "  <thead>\n",
       "    <tr style=\"text-align: right;\">\n",
       "      <th></th>\n",
       "      <th>ISBN</th>\n",
       "      <th>rating</th>\n",
       "      <th>title</th>\n",
       "      <th>author</th>\n",
       "      <th>publisher</th>\n",
       "      <th>img_url</th>\n",
       "      <th>info</th>\n",
       "      <th>id</th>\n",
       "    </tr>\n",
       "  </thead>\n",
       "  <tbody>\n",
       "    <tr>\n",
       "      <th>0</th>\n",
       "      <td>0001360469</td>\n",
       "      <td>10.0</td>\n",
       "      <td>Babe Dressing</td>\n",
       "      <td>Mandy Stanley</td>\n",
       "      <td>HarperCollins Publishers</td>\n",
       "      <td>http://images.amazon.com/images/P/0001360469.0...</td>\n",
       "      <td>Babe DressingMandy StanleyHarperCollins Publis...</td>\n",
       "      <td>0</td>\n",
       "    </tr>\n",
       "    <tr>\n",
       "      <th>1</th>\n",
       "      <td>0001374869</td>\n",
       "      <td>10.0</td>\n",
       "      <td>Baby Plays (Collins Baby and Toddler Series)</td>\n",
       "      <td>Fiona Pragoff</td>\n",
       "      <td>HarperCollins Publishers</td>\n",
       "      <td>http://images.amazon.com/images/P/0001374869.0...</td>\n",
       "      <td>Baby Plays (Collins Baby and Toddler Series)Fi...</td>\n",
       "      <td>1</td>\n",
       "    </tr>\n",
       "    <tr>\n",
       "      <th>2</th>\n",
       "      <td>0001821326</td>\n",
       "      <td>10.0</td>\n",
       "      <td>Paddington at the Tower (A Paddington Picture ...</td>\n",
       "      <td>Michael Bond</td>\n",
       "      <td>Collin</td>\n",
       "      <td>http://images.amazon.com/images/P/0001821326.0...</td>\n",
       "      <td>Paddington at the Tower (A Paddington Picture ...</td>\n",
       "      <td>2</td>\n",
       "    </tr>\n",
       "    <tr>\n",
       "      <th>3</th>\n",
       "      <td>0001845039</td>\n",
       "      <td>10.0</td>\n",
       "      <td>The Moon of Gomrath</td>\n",
       "      <td>Alan Garner</td>\n",
       "      <td>HarperCollins Publishers</td>\n",
       "      <td>http://images.amazon.com/images/P/0001845039.0...</td>\n",
       "      <td>The Moon of GomrathAlan GarnerHarperCollins Pu...</td>\n",
       "      <td>3</td>\n",
       "    </tr>\n",
       "    <tr>\n",
       "      <th>4</th>\n",
       "      <td>0001857258</td>\n",
       "      <td>10.0</td>\n",
       "      <td>Little Wolf's Book of Badness</td>\n",
       "      <td>Ian Whybrow</td>\n",
       "      <td>Collins</td>\n",
       "      <td>http://images.amazon.com/images/P/0001857258.0...</td>\n",
       "      <td>Little Wolf's Book of BadnessIan WhybrowCollins</td>\n",
       "      <td>4</td>\n",
       "    </tr>\n",
       "  </tbody>\n",
       "</table>\n",
       "</div>"
      ],
      "text/plain": [
       "         ISBN  rating                                              title  \\\n",
       "0  0001360469    10.0                                      Babe Dressing   \n",
       "1  0001374869    10.0       Baby Plays (Collins Baby and Toddler Series)   \n",
       "2  0001821326    10.0  Paddington at the Tower (A Paddington Picture ...   \n",
       "3  0001845039    10.0                                The Moon of Gomrath   \n",
       "4  0001857258    10.0                      Little Wolf's Book of Badness   \n",
       "\n",
       "          author                 publisher  \\\n",
       "0  Mandy Stanley  HarperCollins Publishers   \n",
       "1  Fiona Pragoff  HarperCollins Publishers   \n",
       "2   Michael Bond                    Collin   \n",
       "3    Alan Garner  HarperCollins Publishers   \n",
       "4    Ian Whybrow                   Collins   \n",
       "\n",
       "                                             img_url  \\\n",
       "0  http://images.amazon.com/images/P/0001360469.0...   \n",
       "1  http://images.amazon.com/images/P/0001374869.0...   \n",
       "2  http://images.amazon.com/images/P/0001821326.0...   \n",
       "3  http://images.amazon.com/images/P/0001845039.0...   \n",
       "4  http://images.amazon.com/images/P/0001857258.0...   \n",
       "\n",
       "                                                info  id  \n",
       "0  Babe DressingMandy StanleyHarperCollins Publis...   0  \n",
       "1  Baby Plays (Collins Baby and Toddler Series)Fi...   1  \n",
       "2  Paddington at the Tower (A Paddington Picture ...   2  \n",
       "3  The Moon of GomrathAlan GarnerHarperCollins Pu...   3  \n",
       "4    Little Wolf's Book of BadnessIan WhybrowCollins   4  "
      ]
     },
     "execution_count": 55,
     "metadata": {},
     "output_type": "execute_result"
    }
   ],
   "source": [
    "rating_with_book.head()"
   ]
  },
  {
   "cell_type": "code",
   "execution_count": 42,
   "id": "562ae7c5",
   "metadata": {},
   "outputs": [],
   "source": [
    "rating_with_book['info'] = rating_with_book['title']+rating_with_book['author']+rating_with_book[\"publisher\"]"
   ]
  },
  {
   "cell_type": "code",
   "execution_count": 43,
   "id": "f3437079",
   "metadata": {},
   "outputs": [
    {
     "data": {
      "text/html": [
       "<div>\n",
       "<style scoped>\n",
       "    .dataframe tbody tr th:only-of-type {\n",
       "        vertical-align: middle;\n",
       "    }\n",
       "\n",
       "    .dataframe tbody tr th {\n",
       "        vertical-align: top;\n",
       "    }\n",
       "\n",
       "    .dataframe thead th {\n",
       "        text-align: right;\n",
       "    }\n",
       "</style>\n",
       "<table border=\"1\" class=\"dataframe\">\n",
       "  <thead>\n",
       "    <tr style=\"text-align: right;\">\n",
       "      <th></th>\n",
       "      <th>ISBN</th>\n",
       "      <th>rating</th>\n",
       "      <th>title</th>\n",
       "      <th>author</th>\n",
       "      <th>publisher</th>\n",
       "      <th>img_url</th>\n",
       "      <th>info</th>\n",
       "    </tr>\n",
       "  </thead>\n",
       "  <tbody>\n",
       "    <tr>\n",
       "      <th>0</th>\n",
       "      <td>0001360469</td>\n",
       "      <td>10.0</td>\n",
       "      <td>Babe Dressing</td>\n",
       "      <td>Mandy Stanley</td>\n",
       "      <td>HarperCollins Publishers</td>\n",
       "      <td>http://images.amazon.com/images/P/0001360469.0...</td>\n",
       "      <td>Babe DressingMandy StanleyHarperCollins Publis...</td>\n",
       "    </tr>\n",
       "    <tr>\n",
       "      <th>1</th>\n",
       "      <td>0001374869</td>\n",
       "      <td>10.0</td>\n",
       "      <td>Baby Plays (Collins Baby and Toddler Series)</td>\n",
       "      <td>Fiona Pragoff</td>\n",
       "      <td>HarperCollins Publishers</td>\n",
       "      <td>http://images.amazon.com/images/P/0001374869.0...</td>\n",
       "      <td>Baby Plays (Collins Baby and Toddler Series)Fi...</td>\n",
       "    </tr>\n",
       "    <tr>\n",
       "      <th>2</th>\n",
       "      <td>0001821326</td>\n",
       "      <td>10.0</td>\n",
       "      <td>Paddington at the Tower (A Paddington Picture ...</td>\n",
       "      <td>Michael Bond</td>\n",
       "      <td>Collin</td>\n",
       "      <td>http://images.amazon.com/images/P/0001821326.0...</td>\n",
       "      <td>Paddington at the Tower (A Paddington Picture ...</td>\n",
       "    </tr>\n",
       "    <tr>\n",
       "      <th>3</th>\n",
       "      <td>0001845039</td>\n",
       "      <td>10.0</td>\n",
       "      <td>The Moon of Gomrath</td>\n",
       "      <td>Alan Garner</td>\n",
       "      <td>HarperCollins Publishers</td>\n",
       "      <td>http://images.amazon.com/images/P/0001845039.0...</td>\n",
       "      <td>The Moon of GomrathAlan GarnerHarperCollins Pu...</td>\n",
       "    </tr>\n",
       "    <tr>\n",
       "      <th>4</th>\n",
       "      <td>0001857258</td>\n",
       "      <td>10.0</td>\n",
       "      <td>Little Wolf's Book of Badness</td>\n",
       "      <td>Ian Whybrow</td>\n",
       "      <td>Collins</td>\n",
       "      <td>http://images.amazon.com/images/P/0001857258.0...</td>\n",
       "      <td>Little Wolf's Book of BadnessIan WhybrowCollins</td>\n",
       "    </tr>\n",
       "  </tbody>\n",
       "</table>\n",
       "</div>"
      ],
      "text/plain": [
       "         ISBN  rating                                              title  \\\n",
       "0  0001360469    10.0                                      Babe Dressing   \n",
       "1  0001374869    10.0       Baby Plays (Collins Baby and Toddler Series)   \n",
       "2  0001821326    10.0  Paddington at the Tower (A Paddington Picture ...   \n",
       "3  0001845039    10.0                                The Moon of Gomrath   \n",
       "4  0001857258    10.0                      Little Wolf's Book of Badness   \n",
       "\n",
       "          author                 publisher  \\\n",
       "0  Mandy Stanley  HarperCollins Publishers   \n",
       "1  Fiona Pragoff  HarperCollins Publishers   \n",
       "2   Michael Bond                    Collin   \n",
       "3    Alan Garner  HarperCollins Publishers   \n",
       "4    Ian Whybrow                   Collins   \n",
       "\n",
       "                                             img_url  \\\n",
       "0  http://images.amazon.com/images/P/0001360469.0...   \n",
       "1  http://images.amazon.com/images/P/0001374869.0...   \n",
       "2  http://images.amazon.com/images/P/0001821326.0...   \n",
       "3  http://images.amazon.com/images/P/0001845039.0...   \n",
       "4  http://images.amazon.com/images/P/0001857258.0...   \n",
       "\n",
       "                                                info  \n",
       "0  Babe DressingMandy StanleyHarperCollins Publis...  \n",
       "1  Baby Plays (Collins Baby and Toddler Series)Fi...  \n",
       "2  Paddington at the Tower (A Paddington Picture ...  \n",
       "3  The Moon of GomrathAlan GarnerHarperCollins Pu...  \n",
       "4    Little Wolf's Book of BadnessIan WhybrowCollins  "
      ]
     },
     "execution_count": 43,
     "metadata": {},
     "output_type": "execute_result"
    }
   ],
   "source": [
    "rating_with_book.head()"
   ]
  },
  {
   "cell_type": "code",
   "execution_count": 64,
   "id": "5104bb1c",
   "metadata": {},
   "outputs": [],
   "source": [
    "import pickle\n",
    "with open(\"rating_with_book.pkl\",\"wb\") as file:\n",
    "    pickle.dump(rating_with_book, file)"
   ]
  },
  {
   "cell_type": "code",
   "execution_count": 44,
   "id": "fb987a00",
   "metadata": {},
   "outputs": [],
   "source": [
    "from sklearn.feature_extraction.text import CountVectorizer"
   ]
  },
  {
   "cell_type": "code",
   "execution_count": 47,
   "id": "d56cc829",
   "metadata": {},
   "outputs": [],
   "source": [
    "vec = CountVectorizer(max_features=15000, stop_words='english')\n",
    "embed = vec.fit_transform(rating_with_book['info'].values.astype('U')).toarray()"
   ]
  },
  {
   "cell_type": "code",
   "execution_count": 49,
   "id": "f0a37b3e",
   "metadata": {},
   "outputs": [
    {
     "data": {
      "text/plain": [
       "(13771, 15000)"
      ]
     },
     "execution_count": 49,
     "metadata": {},
     "output_type": "execute_result"
    }
   ],
   "source": [
    "embed.shape"
   ]
  },
  {
   "cell_type": "code",
   "execution_count": 50,
   "id": "7f0dc59f",
   "metadata": {},
   "outputs": [
    {
     "data": {
      "text/plain": [
       "array([0, 0, 0, ..., 0, 0, 0], dtype=int64)"
      ]
     },
     "execution_count": 50,
     "metadata": {},
     "output_type": "execute_result"
    }
   ],
   "source": [
    "embed[0]"
   ]
  },
  {
   "cell_type": "code",
   "execution_count": 65,
   "id": "98384e31",
   "metadata": {},
   "outputs": [],
   "source": [
    "import pickle\n",
    "with open(\"embeding.pkl\",\"wb\") as file:\n",
    "    pickle.dump(embed, file)"
   ]
  },
  {
   "cell_type": "code",
   "execution_count": 51,
   "id": "20534977",
   "metadata": {},
   "outputs": [],
   "source": [
    "from sklearn.metrics.pairwise import cosine_similarity"
   ]
  },
  {
   "cell_type": "code",
   "execution_count": 52,
   "id": "d50fed74",
   "metadata": {},
   "outputs": [],
   "source": [
    "matrix_sim = cosine_similarity(embed)"
   ]
  },
  {
   "cell_type": "code",
   "execution_count": 53,
   "id": "b862c431",
   "metadata": {},
   "outputs": [
    {
     "data": {
      "text/plain": [
       "array([[1.        , 0.17407766, 0.        , ..., 0.        , 0.        ,\n",
       "        0.        ],\n",
       "       [0.17407766, 1.        , 0.        , ..., 0.        , 0.        ,\n",
       "        0.        ],\n",
       "       [0.        , 0.        , 1.        , ..., 0.        , 0.        ,\n",
       "        0.        ],\n",
       "       ...,\n",
       "       [0.        , 0.        , 0.        , ..., 1.        , 0.        ,\n",
       "        0.16666667],\n",
       "       [0.        , 0.        , 0.        , ..., 0.        , 1.        ,\n",
       "        0.        ],\n",
       "       [0.        , 0.        , 0.        , ..., 0.16666667, 0.        ,\n",
       "        1.        ]])"
      ]
     },
     "execution_count": 53,
     "metadata": {},
     "output_type": "execute_result"
    }
   ],
   "source": [
    "matrix_sim"
   ]
  },
  {
   "cell_type": "code",
   "execution_count": 56,
   "id": "0f376ec6",
   "metadata": {},
   "outputs": [],
   "source": [
    "def recommend(name):\n",
    "    try:\n",
    "        i = rating_with_book[rating_with_book['title'].str.contains(name, case=False, na=False)].iloc[0]['id']\n",
    "        distance = sorted(list(enumerate(matrix_sim[i])), reverse=True ,key=lambda embed:embed[1])\n",
    "        recommend = []\n",
    "        for j in range(6):\n",
    "            recommend.append(rating_with_book[rating_with_book['id'] == distance[j][0]]['title'].values)\n",
    "        return name, recommend\n",
    "    except:\n",
    "        return \"This name isn't match with dataset\", []\n",
    "    "
   ]
  },
  {
   "cell_type": "code",
   "execution_count": 57,
   "id": "998b886e",
   "metadata": {},
   "outputs": [],
   "source": [
    "import pickle"
   ]
  },
  {
   "cell_type": "code",
   "execution_count": 58,
   "id": "b47af0f1",
   "metadata": {},
   "outputs": [],
   "source": [
    "with open('matrix_similar.pkl','wb') as file:\n",
    "    pickle.dump(matrix_sim, file)"
   ]
  },
  {
   "cell_type": "code",
   "execution_count": 61,
   "id": "25b80699",
   "metadata": {},
   "outputs": [],
   "source": [
    "target, list_recommend = recommend('Babe Dressing')"
   ]
  },
  {
   "cell_type": "code",
   "execution_count": 62,
   "id": "2931d80d",
   "metadata": {},
   "outputs": [
    {
     "name": "stdout",
     "output_type": "stream",
     "text": [
      "Target ['Babe Dressing']\n",
      "The books were recommended of system\n",
      "['Babe Dressing']\n",
      "['Tarot']\n",
      "['Heartland']\n",
      "['Guillaume Chequespierre']\n",
      "['Calculus']\n",
      "['The Burrowers Beneath']\n"
     ]
    }
   ],
   "source": [
    "print('Target', list_recommend[0])\n",
    "print(\"The books were recommended of system\")\n",
    "for i in list_recommend:\n",
    "    print(i)"
   ]
  },
  {
   "cell_type": "code",
   "execution_count": null,
   "id": "279848b2",
   "metadata": {},
   "outputs": [],
   "source": []
  }
 ],
 "metadata": {
  "kernelspec": {
   "display_name": "Python 3 (ipykernel)",
   "language": "python",
   "name": "python3"
  },
  "language_info": {
   "codemirror_mode": {
    "name": "ipython",
    "version": 3
   },
   "file_extension": ".py",
   "mimetype": "text/x-python",
   "name": "python",
   "nbconvert_exporter": "python",
   "pygments_lexer": "ipython3",
   "version": "3.10.0"
  }
 },
 "nbformat": 4,
 "nbformat_minor": 5
}
